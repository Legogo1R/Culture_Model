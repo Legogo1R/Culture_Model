{
 "cells": [
  {
   "cell_type": "code",
   "execution_count": 15,
   "id": "5f78b721",
   "metadata": {
    "tags": []
   },
   "outputs": [],
   "source": [
    "import os\n",
    "import numpy as np\n",
    "import random\n",
    "from PIL import Image\n",
    "\n",
    "import matplotlib.pyplot as plt\n",
    "%matplotlib inline\n",
    "plt.style.use('ggplot')"
   ]
  },
  {
   "attachments": {},
   "cell_type": "markdown",
   "id": "600866f9",
   "metadata": {},
   "source": [
    "Creating envirenment grid"
   ]
  },
  {
   "cell_type": "code",
   "execution_count": 16,
   "id": "4476587a",
   "metadata": {
    "tags": []
   },
   "outputs": [],
   "source": [
    "env = np.zeros([50,50,3], dtype = np.uint8)\n",
    "\n",
    "\n",
    "def getCoordinates(x1, x2, delta = 10):\n",
    "    \"\"\"Gets coordinates for agent in a grid environment\"\"\"\n",
    "    return x1*delta, (x1+1)*delta, x2*delta, (x2+1)*delta\n",
    "\n",
    "def getNeighbors(a,b, amax = 5, bmax = 5):\n",
    "    \"\"\"Gets positions(indexes) of neighbors with corner filtering\"\"\"\n",
    "    neighbors = [(a-1,b-1), (a-1,b), (a-1,b+1), (a,b-1), \n",
    "                 (a,b), (a,b+1), (a+1,b-1), (a+1,b), (a+1,b+1)]\n",
    "    neighbors = [(n1,n2) for n1,n2 in neighbors if n1 >= 0 and n2 >= 0] # eliminate negative index\n",
    "    neighbors = [(n1,n2) for n1,n2 in neighbors if n1 < amax and n2 < bmax] # eliminate out of range\n",
    "    return neighbors\n",
    "\n",
    "def setColor(env, x1, x2, RGB):\n",
    "    a,b,c,d = getCoordinates(x1,x2)\n",
    "    env[a:b,c:d] = RGB\n",
    "    plt.imshow(env)\n",
    "    \n",
    "def drawBoard(environment, iteration = 0, threshold = 100, display = True):\n",
    "    N1, N2, population = environment.N1, environment.N2, environment.population\n",
    "    env = np.zeros([10*N1, 10*N2, 3], dtype = np.uint8)\n",
    "    \n",
    "    for x1 in range(N1):\n",
    "        for x2 in range(N2):\n",
    "            setColor(env, x1, x2, population[(x1,x2)].RGB)\n",
    "    plt.title(f'iter {iteration}')\n",
    "    if display: plt.imshow(env)\n",
    "    cd = os.getcwd()\n",
    "    plt.imsave(os.path.join(cd,'grids', f'iteration_{iteration}.png'), env)\n"
   ]
  },
  {
   "cell_type": "code",
   "execution_count": 17,
   "id": "f00c4a14",
   "metadata": {
    "tags": []
   },
   "outputs": [],
   "source": [
    "class Agent:\n",
    "    \n",
    "    def __init__(self, x1, x2, N1 = 5, N2 = 5):\n",
    "        self.x1, self.x2 = x1, x2\n",
    "        self.N1, self.N2 = N1, N2\n",
    "        self.RGB = np.random.choice(255, 3)\n",
    "        \n",
    "    def similar(self, other_agent, similarity_threshold = 30):\n",
    "        \"\"\" Checks if agents are similar\"\"\"\n",
    "        def distance(v = self.RGB, w = other_agent.RGB):\n",
    "            \"\"\"Calculates difference in Culture(RGB) values\"\"\"\n",
    "            return np.mean(np.abs(v-w)) # Mean of all 3 distances\n",
    "        return distance() < similarity_threshold\n",
    "    \n",
    "    def immitate(self, other_agent):\n",
    "        \"\"\"Immitates agents' interaction and changes their Culture(RGB)\"\"\"\n",
    "        i = np.random.choice(3) # [0,1,2]\n",
    "        self.RGB[i] = other_agent.RGB[i]\n",
    "        \n",
    "    def selectOneNeighbor(self):\n",
    "        neighbors = getNeighbors(self.x1, self.x2, self.N1, self.N2)\n",
    "        return random.choice(neighbors)"
   ]
  },
  {
   "cell_type": "code",
   "execution_count": 22,
   "id": "9283189e",
   "metadata": {
    "tags": []
   },
   "outputs": [],
   "source": [
    "class CultureModel:\n",
    "    \n",
    "    def __init__(self, N1, N2):\n",
    "        self.N1, self.N2 = N1, N2\n",
    "        self.population = {\n",
    "            (x1, x2): Agent(x1, x2, N1, N2)\n",
    "            for x1 in range(self.N1) for x2 in range(self.N2)\n",
    "        }\n",
    "        \n",
    "    def selectOneAgent(self):\n",
    "        return random.choice(list(self.population.keys()))\n",
    "    \n",
    "    def step(self, similarity_threshold = 50):\n",
    "        A_index = self.selectOneAgent()\n",
    "        A = self.population[A_index]\n",
    "        \n",
    "        B_index = A.selectOneNeighbor()\n",
    "        B = self.population[B_index]\n",
    "        \n",
    "        if A.similar(B, similarity_threshold):\n",
    "            A.immitate(B)\n",
    "            \n",
    "    def runSimulation(self, world, steps, similarity_threshold = 50):\n",
    "        for i in range(steps):\n",
    "            self.step(similarity_threshold)\n",
    "            if i % 2500 == 0:\n",
    "                drawBoard(world, i, similarity_threshold, display=False)\n",
    "            if i == steps - 1:\n",
    "                print(i)"
   ]
  },
  {
   "attachments": {},
   "cell_type": "markdown",
   "id": "7d7ed001",
   "metadata": {},
   "source": [
    "Run simulation"
   ]
  },
  {
   "cell_type": "code",
   "execution_count": null,
   "id": "778fddab",
   "metadata": {
    "tags": []
   },
   "outputs": [],
   "source": [
    "world = CultureModel(N1=20, N2=20)\n",
    "steps = 10000\n",
    "similarity_threshold=220\n",
    "world.runSimulation(world, steps, similarity_threshold)\n",
    "drawBoard(world, steps, similarity_threshold)\n"
   ]
  },
  {
   "attachments": {},
   "cell_type": "markdown",
   "id": "be92ac3c",
   "metadata": {},
   "source": [
    "Create GIF"
   ]
  },
  {
   "cell_type": "code",
   "execution_count": 13,
   "id": "048ab045-bd2e-442f-9607-40ddee0b5020",
   "metadata": {},
   "outputs": [],
   "source": [
    "from PIL import Image\n",
    "\n",
    "#  Create frames\n",
    "frames = []\n",
    "Range = list(range(0,steps,2500))\n",
    "imgs = [f\"grids/iteration_{i}.png\" for i in Range]\n",
    "\n",
    "for i in imgs:\n",
    "    new_frame = Image.open(i)\n",
    "    frames.append(new_frame)\n",
    "\n",
    "\n",
    "#  Save into a GIF file\n",
    "\n",
    "frames[0].save(\n",
    "    'Simulation.gif',\n",
    "    format='GIF',\n",
    "    append_images=frames[1:],\n",
    "    save_all=True,\n",
    "    duration=1,\n",
    "    loop=0\n",
    ")"
   ]
  },
  {
   "attachments": {},
   "cell_type": "markdown",
   "id": "3bc32f81",
   "metadata": {},
   "source": [
    "![SegmentLocal](Simulation.gif \"segment\")"
   ]
  }
 ],
 "metadata": {
  "kernelspec": {
   "display_name": "Python 3",
   "language": "python",
   "name": "python3"
  },
  "language_info": {
   "codemirror_mode": {
    "name": "ipython",
    "version": 3
   },
   "file_extension": ".py",
   "mimetype": "text/x-python",
   "name": "python",
   "nbconvert_exporter": "python",
   "pygments_lexer": "ipython3",
   "version": "3.9.1"
  }
 },
 "nbformat": 4,
 "nbformat_minor": 5
}
